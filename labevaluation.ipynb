{
 "cells": [
  {
   "cell_type": "code",
   "execution_count": 1,
   "id": "03c0e5a4",
   "metadata": {},
   "outputs": [
    {
     "name": "stdout",
     "output_type": "stream",
     "text": [
      "Student: John Doe\n",
      "Class: 10A\n",
      "Height: 175 cm\n",
      "Weight: 65 kg\n",
      "Sport: Basketball\n",
      "Caloric Intake: 2200 calories\n",
      "BMR: 1673.75 calories\n",
      "Diet Status: Green: Sufficient consumption\n",
      "\n",
      "Student: Jane Smith\n",
      "Class: 11B\n",
      "Height: 160 cm\n",
      "Weight: 50 kg\n",
      "Sport: Swimming\n",
      "Caloric Intake: 1800 calories\n",
      "BMR: 1259.00 calories\n",
      "Diet Status: Green: Sufficient consumption\n",
      "\n"
     ]
    }
   ],
   "source": [
    "\n",
    "def calculate_bmr(weight, height, age, gender):\n",
    "    if gender == 'male':\n",
    "        bmr = 10 * weight + 6.25 * height - 5 * age + 5\n",
    "    elif gender == 'female':\n",
    "        bmr = 10 * weight + 6.25 * height - 5 * age - 161\n",
    "    else:\n",
    "        raise ValueError(\"Gender must be 'male' or 'female'\")\n",
    "    return bmr\n",
    "\n",
    "def evaluate_diet_status(caloric_intake, bmr):\n",
    "    if caloric_intake < bmr * 0.8:\n",
    "        return \"Red: Underweight\"\n",
    "    elif caloric_intake < bmr:\n",
    "        return \"Orange: Needs more intake\"\n",
    "    else:\n",
    "        return \"Green: Sufficient consumption\"\n",
    "\n",
    "students = {\n",
    "    'John Doe': {\n",
    "        'class': '10A',\n",
    "        'height': 175,  # in cm\n",
    "        'weight': 65,   # in kg\n",
    "        'age': 15,\n",
    "        'gender': 'male',\n",
    "        'sport': 'Basketball',\n",
    "        'caloric_intake': 2200 \n",
    "    },\n",
    "    'Jane Smith': {\n",
    "        'class': '11B',\n",
    "        'height': 160,  \n",
    "        'weight': 50,  \n",
    "        'age': 16,\n",
    "        'gender': 'female',\n",
    "        'sport': 'Swimming',\n",
    "        'caloric_intake': 1800  \n",
    "    }\n",
    "}\n",
    "\n",
    "for student, details in students.items():\n",
    "    height = details['height']\n",
    "    weight = details['weight']\n",
    "    age = details['age']\n",
    "    gender = details['gender']\n",
    "    caloric_intake = details['caloric_intake']\n",
    "   \n",
    "    bmr = calculate_bmr(weight, height, age, gender)\n",
    "   \n",
    "    diet_status = evaluate_diet_status(caloric_intake, bmr)\n",
    "   \n",
    "    print(f\"Student: {student}\")\n",
    "    print(f\"Class: {details['class']}\")\n",
    "    print(f\"Height: {height} cm\")\n",
    "    print(f\"Weight: {weight} kg\")\n",
    "    print(f\"Sport: {details['sport']}\")\n",
    "    print(f\"Caloric Intake: {caloric_intake} calories\")\n",
    "    print(f\"BMR: {bmr:.2f} calories\")\n",
    "    print(f\"Diet Status: {diet_status}\")\n",
    "  "
   ]
  },
  {
   "cell_type": "code",
   "execution_count": null,
   "id": "b6d969ef",
   "metadata": {},
   "outputs": [],
   "source": []
  }
 ],
 "metadata": {
  "kernelspec": {
   "display_name": "Python 3 (ipykernel)",
   "language": "python",
   "name": "python3"
  },
  "language_info": {
   "codemirror_mode": {
    "name": "ipython",
    "version": 3
   },
   "file_extension": ".py",
   "mimetype": "text/x-python",
   "name": "python",
   "nbconvert_exporter": "python",
   "pygments_lexer": "ipython3",
   "version": "3.11.5"
  }
 },
 "nbformat": 4,
 "nbformat_minor": 5
}
